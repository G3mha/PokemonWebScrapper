{
 "cells": [
  {
   "cell_type": "markdown",
   "metadata": {},
   "source": [
    "# Redes Sociais - APS 3\n",
    "\n",
    "### Alunos: Arthur Barreto, Enricco Gemha e Felipe Catapano\n"
   ]
  },
  {
   "cell_type": "markdown",
   "metadata": {},
   "source": [
    "Extraindo dados do maior marketplace de jogos da atualidade, *Steam* [$^1$](https://www.kaggle.com/datasets/nikdavis/steam-store-games), construímos uma rede de empresas desenvolvedoras de jogos que se conectam quando produzem jogos do mesmo subgênero, considerando mais de 27.033 jogos, de mais de 17.000 desenvolvedoras. Os vértices representam empresas desenvolvedoras de jogos e uma aresta não-direcionada indica um número de jogos a definir para cada subgênero que ambas produziram."
   ]
  },
  {
   "cell_type": "markdown",
   "metadata": {},
   "source": [
    "## Pré-requisitos"
   ]
  },
  {
   "cell_type": "code",
   "execution_count": 1,
   "metadata": {
    "execution": {
     "iopub.execute_input": "2023-10-03T11:48:30.235654Z",
     "iopub.status.busy": "2023-10-03T11:48:30.235117Z",
     "iopub.status.idle": "2023-10-03T11:48:32.380067Z",
     "shell.execute_reply": "2023-10-03T11:48:32.379461Z",
     "shell.execute_reply.started": "2023-10-03T11:48:30.235617Z"
    }
   },
   "outputs": [
    {
     "data": {
      "text/html": [
       "\n",
       "    <script src=\"/static/.hidden/netpixi.min.js\"></script>\n"
      ],
      "text/plain": [
       "<IPython.core.display.HTML object>"
      ]
     },
     "metadata": {},
     "output_type": "display_data"
    }
   ],
   "source": [
    "import graph_tool_extras as gte\n",
    "import netpixi\n",
    "from graph_tool import draw\n",
    "import distribution as dst\n",
    "import matplotlib.pyplot as plt\n",
    "%matplotlib inline"
   ]
  },
  {
   "cell_type": "code",
   "execution_count": 2,
   "metadata": {
    "execution": {
     "iopub.execute_input": "2023-10-03T11:48:32.381101Z",
     "iopub.status.busy": "2023-10-03T11:48:32.380834Z",
     "iopub.status.idle": "2023-10-03T11:48:32.386445Z",
     "shell.execute_reply": "2023-10-03T11:48:32.385558Z",
     "shell.execute_reply.started": "2023-10-03T11:48:32.381088Z"
    }
   },
   "outputs": [],
   "source": [
    "PATH = './db/decks_test.csv'"
   ]
  },
  {
   "cell_type": "markdown",
   "metadata": {},
   "source": [
    "## Análise dos dados importados"
   ]
  },
  {
   "cell_type": "markdown",
   "metadata": {},
   "source": [
    "Primeiro, abrimos e lemos o arquivo `steam.csv` para entendermos como os dados estão estruturados. \n",
    "Isso nos dá um *insight* de como realizar o *parsing* do arquivo e como extrair as informações que precisamos.\n",
    "Com isso, definimos uma função `get_data` que realiza a subrotina de extração e limpeza de uma linha do arquivo `steam.csv`."
   ]
  },
  {
   "cell_type": "code",
   "execution_count": 6,
   "metadata": {
    "execution": {
     "iopub.execute_input": "2023-10-03T11:49:51.954967Z",
     "iopub.status.busy": "2023-10-03T11:49:51.954327Z",
     "iopub.status.idle": "2023-10-03T11:49:51.966913Z",
     "shell.execute_reply": "2023-10-03T11:49:51.962920Z",
     "shell.execute_reply.started": "2023-10-03T11:49:51.954938Z"
    }
   },
   "outputs": [],
   "source": [
    "def get_data(line):\n",
    "    # realiza o split por vírgula (.csv) e retorna a lista\n",
    "    line_clean = line.split('\\n')[0].split(',')\n",
    "    return line_clean"
   ]
  },
  {
   "cell_type": "markdown",
   "metadata": {},
   "source": [
    "Com isso, espiamos a saída da função `get_data` para entendermos como os dados estão estruturados."
   ]
  },
  {
   "cell_type": "code",
   "execution_count": 7,
   "metadata": {
    "execution": {
     "iopub.execute_input": "2023-10-03T11:49:53.726232Z",
     "iopub.status.busy": "2023-10-03T11:49:53.725894Z",
     "iopub.status.idle": "2023-10-03T11:49:53.749378Z",
     "shell.execute_reply": "2023-10-03T11:49:53.742004Z",
     "shell.execute_reply.started": "2023-10-03T11:49:53.726207Z"
    },
    "scrolled": true
   },
   "outputs": [
    {
     "name": "stdout",
     "output_type": "stream",
     "text": [
      "['0', 'OBF026']\n",
      "['0', 'OBF125']\n",
      "['0', 'BRS122']\n",
      "['0', 'BRS123']\n",
      "['0', 'OBF162']\n"
     ]
    }
   ],
   "source": [
    "with open(PATH) as file:\n",
    "\n",
    "    # cria index de contagem para o loop abaixo.\n",
    "    i = 0\n",
    "    \n",
    "    # ignora o cabeçalho.\n",
    "    next(file)\n",
    "\n",
    "    # Para não sobrecarregar este notebook\n",
    "    # vamos espiar somente as 5 primeiras linhas.\n",
    "    for line in file:\n",
    "\n",
    "        # Chama função de leitura de dados.\n",
    "        line_clean = get_data(line)\n",
    "        print(line_clean)\n",
    "        \n",
    "        # Para não sobrecarregar este notebook, vamos usar um contador\n",
    "        # e um break para imprimir apenas as cinco primeiras linhas.\n",
    "        i += 1\n",
    "        if i == 5:\n",
    "            break"
   ]
  },
  {
   "cell_type": "markdown",
   "metadata": {},
   "source": [
    "## Obtendo o valor de `fator_concorrencia`"
   ]
  },
  {
   "cell_type": "markdown",
   "metadata": {},
   "source": [
    "Agora que possuímos as informações de `developer`, `owners` e `subgenres` de cada jogo, vamos calcular para cada `developer` o número de vendas (`owners`) somadas de todos os jogos que ela já produziu por `subgenre`. Isso nos ajudará a medir o impacto de cada `developer` em cada `subgenre` e, consequentemente, a concorrência entre `developers` em cada `subgenre`, escolhemos chamar isto de `fator_concorrencia`. "
   ]
  },
  {
   "cell_type": "markdown",
   "metadata": {},
   "source": [
    "## Criação do grafo"
   ]
  },
  {
   "cell_type": "markdown",
   "metadata": {},
   "source": [
    "Utilizaremos a biblioteca [graph-tool](https://graph-tool.skewed.de/) somente para criação e visualização básica dos grafos, sem suporte de nenhum método ou função que não seja essencial."
   ]
  },
  {
   "cell_type": "code",
   "execution_count": 8,
   "metadata": {
    "execution": {
     "iopub.execute_input": "2023-10-03T11:49:59.943978Z",
     "iopub.status.busy": "2023-10-03T11:49:59.943439Z",
     "iopub.status.idle": "2023-10-03T11:49:59.952827Z",
     "shell.execute_reply": "2023-10-03T11:49:59.950262Z",
     "shell.execute_reply.started": "2023-10-03T11:49:59.943951Z"
    }
   },
   "outputs": [],
   "source": [
    "g = gte.Graph(directed=False) # pois o grafo não é direcionado, como informado acima."
   ]
  },
  {
   "cell_type": "markdown",
   "metadata": {},
   "source": [
    "Antes, vamos definir duas funções auxiliares para facilitar a adição de novos nós e arestas, respectivamente."
   ]
  },
  {
   "cell_type": "code",
   "execution_count": 9,
   "metadata": {
    "execution": {
     "iopub.execute_input": "2023-10-03T11:50:01.318756Z",
     "iopub.status.busy": "2023-10-03T11:50:01.318325Z",
     "iopub.status.idle": "2023-10-03T11:50:01.328297Z",
     "shell.execute_reply": "2023-10-03T11:50:01.325006Z",
     "shell.execute_reply.started": "2023-10-03T11:50:01.318731Z"
    }
   },
   "outputs": [],
   "source": [
    "def get_or_add_vertex(g, id):\n",
    "    u = g.vertex_by_id(id)\n",
    "    if u is None:\n",
    "        u = g.add_vertex_by_id(id)\n",
    "    return u\n",
    "\n",
    "def get_or_add_edge(g, id1, id2):\n",
    "    e = g.edge_by_ids(id1, id2)\n",
    "    if e is None:\n",
    "        e = g.add_edge_by_ids(id1, id2)\n",
    "    return e"
   ]
  },
  {
   "cell_type": "markdown",
   "metadata": {},
   "source": [
    "Antes, vamos definir duas funções auxiliares para facilitar a adição de novos nós e arestas, respectivamente."
   ]
  },
  {
   "cell_type": "code",
   "execution_count": 10,
   "metadata": {
    "execution": {
     "iopub.execute_input": "2023-10-03T11:50:18.065402Z",
     "iopub.status.busy": "2023-10-03T11:50:18.064668Z",
     "iopub.status.idle": "2023-10-03T11:50:20.284482Z",
     "shell.execute_reply": "2023-10-03T11:50:20.283587Z",
     "shell.execute_reply.started": "2023-10-03T11:50:18.065373Z"
    }
   },
   "outputs": [
    {
     "name": "stdout",
     "output_type": "stream",
     "text": [
      "Foram lidas 15819 linhas.\n",
      "Foram criados 328 vértices.\n",
      "Foram criadas 13088 arestas.\n"
     ]
    }
   ],
   "source": [
    "with open(PATH) as file:\n",
    "\n",
    "    # cria index de contagem para o loop abaixo.\n",
    "    i = 1\n",
    "    \n",
    "    # ignora o cabeçalho.\n",
    "    next(file)\n",
    "\n",
    "    decklists = {}\n",
    "\n",
    "    # Itera sobre as linhas do arquivo.\n",
    "    for line in file:\n",
    "\n",
    "        # Limpa os dados da linha.\n",
    "        line_clean = get_data(line)\n",
    "\n",
    "        # Remonta cada decklist.\n",
    "        # A chave é o id do deck.\n",
    "        # O valor é uma lista com os ids das cartas.\n",
    "        # Tenta adquirir o valor da chave, caso não exista, cria uma lista vazia.\n",
    "        decklist = decklists.get(line_clean[0], [])\n",
    "        decklist.append(line_clean[1])\n",
    "        decklists[line_clean[0]] = decklist\n",
    "\n",
    "        # incrementa contador\n",
    "        i += 1\n",
    "        \n",
    "# Itera sobre cada deck.\n",
    "for deck in decklists.values():\n",
    "    \n",
    "    # adiciona os vértices\n",
    "    for card in deck:\n",
    "        get_or_add_vertex(g, card)\n",
    "\n",
    "    # adiciona as arestas\n",
    "    for j in range(len(deck)):\n",
    "        for k in range(j+1, len(deck)):\n",
    "            get_or_add_edge(g, deck[j], deck[k])\n",
    "\n",
    "# Imprime a quantidade de linhas lidas.\n",
    "print(f'Foram lidas {i} linhas.') \n",
    "\n",
    "# Imprime a quantidade de vértices.\n",
    "print(f'Foram criados {g.num_vertices()} vértices.')\n",
    "\n",
    "# Imprime a quantidade de arestas.\n",
    "print(f'Foram criadas {g.num_edges()} arestas.')"
   ]
  },
  {
   "cell_type": "markdown",
   "metadata": {},
   "source": [
    "A seguir, devemos chamar `draw.sfdp_layout`, passando a rede, para rodar um algoritmo de posicionamento chamado SFDP [[1](#sfdp)].\n",
    "\n",
    "Esse algoritmo usa uma ideia conhecida como [force-directed graph drawing](https://en.wikipedia.org/wiki/Force-directed_graph_drawing) para posicionar os vértices de forma a evidenciar agrupamentos."
   ]
  },
  {
   "cell_type": "code",
   "execution_count": 11,
   "metadata": {
    "execution": {
     "iopub.execute_input": "2023-10-03T11:50:52.247896Z",
     "iopub.status.busy": "2023-10-03T11:50:52.246175Z",
     "iopub.status.idle": "2023-10-03T11:50:52.807296Z",
     "shell.execute_reply": "2023-10-03T11:50:52.806610Z",
     "shell.execute_reply.started": "2023-10-03T11:50:52.247855Z"
    }
   },
   "outputs": [],
   "source": [
    "layout = draw.sfdp_layout(g)"
   ]
  },
  {
   "cell_type": "code",
   "execution_count": 12,
   "metadata": {
    "execution": {
     "iopub.execute_input": "2023-10-03T11:50:53.565266Z",
     "iopub.status.busy": "2023-10-03T11:50:53.564444Z",
     "iopub.status.idle": "2023-10-03T11:50:53.600574Z",
     "shell.execute_reply": "2023-10-03T11:50:53.599697Z",
     "shell.execute_reply.started": "2023-10-03T11:50:53.565219Z"
    }
   },
   "outputs": [],
   "source": [
    "gte.move(g, layout)"
   ]
  },
  {
   "cell_type": "markdown",
   "metadata": {},
   "source": [
    "## Armazenamento da rede"
   ]
  },
  {
   "cell_type": "markdown",
   "metadata": {},
   "source": [
    "Para garantir a segurança da informação processada, devemos guardá-la em um arquivo na mesma pasta deste notebook."
   ]
  },
  {
   "cell_type": "code",
   "execution_count": 13,
   "metadata": {
    "execution": {
     "iopub.execute_input": "2023-10-03T11:50:55.695000Z",
     "iopub.status.busy": "2023-10-03T11:50:55.694437Z",
     "iopub.status.idle": "2023-10-03T11:50:56.254810Z",
     "shell.execute_reply": "2023-10-03T11:50:56.253865Z",
     "shell.execute_reply.started": "2023-10-03T11:50:55.694970Z"
    }
   },
   "outputs": [],
   "source": [
    "g = gte.clean(g)\n",
    "gte.save(g, 'spotify.net.gz')"
   ]
  },
  {
   "cell_type": "markdown",
   "metadata": {},
   "source": [
    "## Visualização da rede"
   ]
  },
  {
   "cell_type": "markdown",
   "metadata": {},
   "source": [
    "O próximo passo é a renderização da rede."
   ]
  },
  {
   "cell_type": "code",
   "execution_count": 14,
   "metadata": {
    "execution": {
     "iopub.execute_input": "2023-10-03T11:50:58.218178Z",
     "iopub.status.busy": "2023-10-03T11:50:58.217795Z",
     "iopub.status.idle": "2023-10-03T11:50:58.250118Z",
     "shell.execute_reply": "2023-10-03T11:50:58.247879Z",
     "shell.execute_reply.started": "2023-10-03T11:50:58.218152Z"
    }
   },
   "outputs": [
    {
     "data": {
      "text/html": [
       "\n",
       "        <div id=\"96MFAmKVZ3iNTmSMER3hWh\"></div>\n",
       "        <script>netpixi.render('96MFAmKVZ3iNTmSMER3hWh', '/static/__shared__/aps03/spotify.net.gz', 1.7777777777777777, true, true, false, true);</script>\n",
       "    "
      ],
      "text/plain": [
       "<IPython.core.display.HTML object>"
      ]
     },
     "metadata": {},
     "output_type": "display_data"
    }
   ],
   "source": [
    "r = netpixi.render('spotify.net.gz', infinite=True)"
   ]
  },
  {
   "cell_type": "markdown",
   "metadata": {},
   "source": [
    "Por fim, devemos ajustar a visualização da renderização."
   ]
  },
  {
   "cell_type": "code",
   "execution_count": 15,
   "metadata": {
    "execution": {
     "iopub.execute_input": "2023-10-03T11:51:12.029384Z",
     "iopub.status.busy": "2023-10-03T11:51:12.029002Z",
     "iopub.status.idle": "2023-10-03T11:51:12.053767Z",
     "shell.execute_reply": "2023-10-03T11:51:12.051957Z",
     "shell.execute_reply.started": "2023-10-03T11:51:12.029360Z"
    }
   },
   "outputs": [
    {
     "data": {
      "text/html": [
       "\n",
       "        <div id=\"X9C3Z8wpeZkp6y3gUXGEeP\"></div>\n",
       "        <script>netpixi.call('X9C3Z8wpeZkp6y3gUXGEeP', '96MFAmKVZ3iNTmSMER3hWh', 'changeGraph', 'eyJ0eXBlIjogInNldHRpbmdzIiwgInByb3BzIjogeyJ2ZXJ0ZXgiOiB7InNpemUiOiA0LCAiYndpZHRoIjogMX19fQo=');</script>\n",
       "    "
      ],
      "text/plain": [
       "<IPython.core.display.HTML object>"
      ]
     },
     "metadata": {},
     "output_type": "display_data"
    }
   ],
   "source": [
    "r.vertex_default(size=4, bwidth=1)"
   ]
  },
  {
   "cell_type": "code",
   "execution_count": 16,
   "metadata": {
    "execution": {
     "iopub.execute_input": "2023-10-03T11:51:12.727392Z",
     "iopub.status.busy": "2023-10-03T11:51:12.726728Z",
     "iopub.status.idle": "2023-10-03T11:51:12.744464Z",
     "shell.execute_reply": "2023-10-03T11:51:12.742229Z",
     "shell.execute_reply.started": "2023-10-03T11:51:12.727368Z"
    }
   },
   "outputs": [
    {
     "data": {
      "text/html": [
       "\n",
       "        <div id=\"Ben775s9TdqErvFkBzJZ2a\"></div>\n",
       "        <script>netpixi.call('Ben775s9TdqErvFkBzJZ2a', '96MFAmKVZ3iNTmSMER3hWh', 'changeGraph', 'eyJ0eXBlIjogInNldHRpbmdzIiwgInByb3BzIjogeyJlZGdlIjogeyJ3aWR0aCI6IDF9fX0K');</script>\n",
       "    "
      ],
      "text/plain": [
       "<IPython.core.display.HTML object>"
      ]
     },
     "metadata": {},
     "output_type": "display_data"
    }
   ],
   "source": [
    "r.edge_default(width=1)"
   ]
  },
  {
   "cell_type": "code",
   "execution_count": null,
   "metadata": {},
   "outputs": [],
   "source": []
  }
 ],
 "metadata": {
  "kernelspec": {
   "display_name": "Python 3 (ipykernel)",
   "language": "python",
   "name": "python3"
  },
  "language_info": {
   "codemirror_mode": {
    "name": "ipython",
    "version": 3
   },
   "file_extension": ".py",
   "mimetype": "text/x-python",
   "name": "python",
   "nbconvert_exporter": "python",
   "pygments_lexer": "ipython3",
   "version": "3.11.5"
  }
 },
 "nbformat": 4,
 "nbformat_minor": 4
}
